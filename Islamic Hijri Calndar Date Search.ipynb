{
 "cells": [
  {
   "cell_type": "code",
   "execution_count": 2,
   "id": "2de9400e-82ab-461e-b295-5c829df5dc1c",
   "metadata": {},
   "outputs": [
    {
     "name": "stdout",
     "output_type": "stream",
     "text": [
      "Collecting hijri-converter\n",
      "  Downloading hijri_converter-2.3.2.post1-py3-none-any.whl.metadata (1.1 kB)\n",
      "Collecting hijridate==2.3.0 (from hijri-converter)\n",
      "  Downloading hijridate-2.3.0-py3-none-any.whl.metadata (3.4 kB)\n",
      "Downloading hijri_converter-2.3.2.post1-py3-none-any.whl (13 kB)\n",
      "Downloading hijridate-2.3.0-py3-none-any.whl (13 kB)\n",
      "Installing collected packages: hijridate, hijri-converter\n",
      "Successfully installed hijri-converter-2.3.2.post1 hijridate-2.3.0\n",
      "Note: you may need to restart the kernel to use updated packages.\n"
     ]
    }
   ],
   "source": [
    "pip install hijri-converter"
   ]
  },
  {
   "cell_type": "code",
   "execution_count": 5,
   "id": "dc0becce-6fcf-419f-9bf0-a580e9679603",
   "metadata": {},
   "outputs": [],
   "source": [
    "import tkinter as tk\n",
    "from tkinter import simpledialog, messagebox\n",
    "from hijri_converter import Hijri, Gregorian\n",
    "\n",
    "# Function to convert Hijri date to Gregorian\n",
    "def convert_date():\n",
    "    try:\n",
    "        # Ask user for Hijri date input\n",
    "        year = int(simpledialog.askstring(\"Input\", \"Enter Hijri Year (e.g. 1447):\"))\n",
    "        month = int(simpledialog.askstring(\"Input\", \"Enter Hijri Month (1=Muharram ... 12=Zil Hajj):\"))\n",
    "        day = int(simpledialog.askstring(\"Input\", \"Enter Hijri Day (1-30):\"))\n",
    "\n",
    "        # Convert using hijri-converter\n",
    "        g_date = Hijri(year, month, day).to_gregorian()\n",
    "\n",
    "        # Find weekday name\n",
    "        weekdays = [\"Monday\", \"Tuesday\", \"Wednesday\", \"Thursday\", \"Friday\", \"Saturday\", \"Sunday\"]\n",
    "        weekday = weekdays[g_date.weekday()]\n",
    "\n",
    "        # Show result\n",
    "        messagebox.showinfo(\"Result\",\n",
    "                            f\"Hijri Date: {day}-{month}-{year}H\\n\"\n",
    "                            f\"Gregorian Date: {g_date.day}-{g_date.month}-{g_date.year}\\n\"\n",
    "                            f\"Day: {weekday}\")\n",
    "\n",
    "    except Exception as e:\n",
    "        messagebox.showerror(\"Error\", f\"Invalid input! {e}\")\n",
    "\n",
    "# Tkinter window\n",
    "root = tk.Tk()\n",
    "root.withdraw()  # Hide main window\n",
    "\n",
    "convert_date()"
   ]
  },
  {
   "cell_type": "code",
   "execution_count": null,
   "id": "2fead5fd-e9a2-4cf2-a886-33d346f5c686",
   "metadata": {},
   "outputs": [],
   "source": []
  }
 ],
 "metadata": {
  "kernelspec": {
   "display_name": "Python 3 (ipykernel)",
   "language": "python",
   "name": "python3"
  },
  "language_info": {
   "codemirror_mode": {
    "name": "ipython",
    "version": 3
   },
   "file_extension": ".py",
   "mimetype": "text/x-python",
   "name": "python",
   "nbconvert_exporter": "python",
   "pygments_lexer": "ipython3",
   "version": "3.11.7"
  },
  "widgets": {
   "application/vnd.jupyter.widget-state+json": {
    "state": {},
    "version_major": 2,
    "version_minor": 0
   }
  }
 },
 "nbformat": 4,
 "nbformat_minor": 5
}
